{
 "cells": [
  {
   "cell_type": "code",
   "execution_count": 31,
   "metadata": {},
   "outputs": [],
   "source": [
    "import argparse\n",
    "import time\n",
    "\n",
    "from PIL import Image\n",
    "from PIL import ImageDraw\n",
    "\n",
    "import detect\n",
    "import tflite_runtime.interpreter as tflite\n",
    "import platform\n",
    "from pathlib import Path\n",
    "import urllib.request"
   ]
  },
  {
   "cell_type": "code",
   "execution_count": 32,
   "metadata": {},
   "outputs": [],
   "source": [
    "EDGETPU_SHARED_LIB = {\n",
    "  'Linux': 'libedgetpu.so.1',\n",
    "  'Darwin': 'libedgetpu.1.dylib',\n",
    "  'Windows': 'edgetpu.dll'\n",
    "}[platform.system()]"
   ]
  },
  {
   "cell_type": "code",
   "execution_count": 33,
   "metadata": {},
   "outputs": [],
   "source": [
    "def load_labels(path, encoding='utf-8'):\n",
    "  \"\"\"Loads labels from file (with or without index numbers).\n",
    "\n",
    "  Args:\n",
    "    path: path to label file.\n",
    "    encoding: label file encoding.\n",
    "  Returns:\n",
    "    Dictionary mapping indices to labels.\n",
    "  \"\"\"\n",
    "  with open(path, 'r', encoding=encoding) as f:\n",
    "    lines = f.readlines()\n",
    "    if not lines:\n",
    "      return {}\n",
    "\n",
    "    if lines[0].split(' ', maxsplit=1)[0].isdigit():\n",
    "      pairs = [line.split(' ', maxsplit=1) for line in lines]\n",
    "      return {int(index): label.strip() for index, label in pairs}\n",
    "    else:\n",
    "      return {index: line.strip() for index, line in enumerate(lines)}"
   ]
  },
  {
   "cell_type": "code",
   "execution_count": 34,
   "metadata": {},
   "outputs": [],
   "source": [
    "def make_interpreter(model_file):\n",
    "  model_file, *device = model_file.split('@')\n",
    "  return tflite.Interpreter(\n",
    "      model_path=model_file,\n",
    "      experimental_delegates=[\n",
    "          tflite.load_delegate(EDGETPU_SHARED_LIB,\n",
    "                               {'device': device[0]} if device else {})\n",
    "      ])"
   ]
  },
  {
   "cell_type": "code",
   "execution_count": 35,
   "metadata": {},
   "outputs": [],
   "source": [
    "def draw_objects(draw, objs, labels):\n",
    "  \"\"\"Draws the bounding box and label for each object.\"\"\"\n",
    "  for obj in objs:\n",
    "    bbox = obj.bbox\n",
    "    draw.rectangle([(bbox.xmin, bbox.ymin), (bbox.xmax, bbox.ymax)],\n",
    "                   outline='red')\n",
    "    draw.text((bbox.xmin + 10, bbox.ymin + 10),\n",
    "              '%s\\n%.2f' % (labels.get(obj.id, obj.id), obj.score),\n",
    "              fill='red')"
   ]
  },
  {
   "cell_type": "code",
   "execution_count": 36,
   "metadata": {},
   "outputs": [],
   "source": [
    "Path(\"models\").mkdir(parents=True, exist_ok=True)\n",
    "Path(\"images\").mkdir(parents=True, exist_ok=True)"
   ]
  },
  {
   "cell_type": "code",
   "execution_count": 37,
   "metadata": {},
   "outputs": [
    {
     "data": {
      "text/plain": [
       "('images/grace_hopper.bmp', <http.client.HTTPMessage at 0x233aee53708>)"
      ]
     },
     "execution_count": 37,
     "metadata": {},
     "output_type": "execute_result"
    }
   ],
   "source": [
    "url = 'https://github.com/google-coral/edgetpu/raw/master/test_data/mobilenet_ssd_v2_coco_quant_postprocess_edgetpu.tflite'\n",
    "urllib.request.urlretrieve(url, 'models/mobilenet_ssd_v2_coco_quant_postprocess_edgetpu.tflite')\n",
    "url = 'https://github.com/google-coral/edgetpu/raw/master/test_data/mobilenet_ssd_v2_coco_quant_postprocess.tflite'\n",
    "urllib.request.urlretrieve(url, 'models/mobilenet_ssd_v2_coco_quant_postprocess.tflite')\n",
    "url = 'https://github.com/google-coral/edgetpu/raw/master/test_data/coco_labels.txt'\n",
    "urllib.request.urlretrieve(url, 'models/coco_labels.txt')\n",
    "url = 'https://github.com/google-coral/edgetpu/raw/master/test_data/grace_hopper.bmp'\n",
    "urllib.request.urlretrieve(url, 'images/grace_hopper.bmp')"
   ]
  },
  {
   "cell_type": "code",
   "execution_count": 38,
   "metadata": {},
   "outputs": [],
   "source": [
    "labels = load_labels('models/coco_labels.txt')\n",
    "interpreter = make_interpreter('models/mobilenet_ssd_v2_coco_quant_postprocess.tflite')\n",
    "interpreter.allocate_tensors()"
   ]
  },
  {
   "cell_type": "code",
   "execution_count": 39,
   "metadata": {},
   "outputs": [],
   "source": [
    "image = Image.open('images/grace_hopper.bmp')\n",
    "scale = detect.set_input(interpreter, image.size,\n",
    "                       lambda size: image.resize(size, Image.ANTIALIAS))"
   ]
  },
  {
   "cell_type": "code",
   "execution_count": 40,
   "metadata": {},
   "outputs": [
    {
     "name": "stdout",
     "output_type": "stream",
     "text": [
      "----INFERENCE TIME----\n",
      "Note: The first inference is slow because it includes loading the model into Edge TPU memory.\n"
     ]
    }
   ],
   "source": [
    "print('----INFERENCE TIME----')\n",
    "print('Note: The first inference is slow because it includes',\n",
    "    'loading the model into Edge TPU memory.')"
   ]
  },
  {
   "cell_type": "code",
   "execution_count": 41,
   "metadata": {},
   "outputs": [
    {
     "name": "stdout",
     "output_type": "stream",
     "text": [
      "619.49 ms\n",
      "667.31 ms\n",
      "624.05 ms\n",
      "652.16 ms\n",
      "630.06 ms\n"
     ]
    }
   ],
   "source": [
    "for _ in range(5):\n",
    "    start = time.perf_counter()\n",
    "    interpreter.invoke()\n",
    "    inference_time = time.perf_counter() - start\n",
    "    objs = detect.get_output(interpreter, 0.4, scale)\n",
    "    print('%.2f ms' % (inference_time * 1000))"
   ]
  },
  {
   "cell_type": "code",
   "execution_count": 42,
   "metadata": {},
   "outputs": [
    {
     "name": "stdout",
     "output_type": "stream",
     "text": [
      "-------RESULTS--------\n"
     ]
    }
   ],
   "source": [
    "print('-------RESULTS--------')\n",
    "if not objs:\n",
    "    print('No objects detected')"
   ]
  },
  {
   "cell_type": "code",
   "execution_count": 43,
   "metadata": {},
   "outputs": [
    {
     "name": "stdout",
     "output_type": "stream",
     "text": [
      "person\n",
      "  id:     0\n",
      "  score:  0.83984375\n",
      "  bbox:   BBox(xmin=2, ymin=5, xmax=507, ymax=590)\n",
      "tie\n",
      "  id:     31\n",
      "  score:  0.83984375\n",
      "  bbox:   BBox(xmin=225, ymin=417, xmax=291, ymax=539)\n"
     ]
    }
   ],
   "source": [
    "for obj in objs:\n",
    "    print(labels.get(obj.id, obj.id))\n",
    "    print('  id:    ', obj.id)\n",
    "    print('  score: ', obj.score)\n",
    "    print('  bbox:  ', obj.bbox)"
   ]
  },
  {
   "cell_type": "code",
   "execution_count": 44,
   "metadata": {},
   "outputs": [],
   "source": [
    "image = image.convert('RGB')\n",
    "draw_objects(ImageDraw.Draw(image), objs, labels)\n",
    "image.save('images/output.jpg')\n",
    "image.show()"
   ]
  }
 ],
 "metadata": {
  "kernelspec": {
   "display_name": "Python 3",
   "language": "python",
   "name": "python3"
  },
  "language_info": {
   "codemirror_mode": {
    "name": "ipython",
    "version": 3
   },
   "file_extension": ".py",
   "mimetype": "text/x-python",
   "name": "python",
   "nbconvert_exporter": "python",
   "pygments_lexer": "ipython3",
   "version": "3.7.6"
  }
 },
 "nbformat": 4,
 "nbformat_minor": 4
}
