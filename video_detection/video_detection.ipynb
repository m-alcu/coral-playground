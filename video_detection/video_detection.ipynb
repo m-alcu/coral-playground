{
 "cells": [
  {
   "cell_type": "code",
   "execution_count": 9,
   "metadata": {},
   "outputs": [],
   "source": [
    "import argparse\n",
    "import collections\n",
    "import common\n",
    "import cv2\n",
    "import numpy as np\n",
    "import os\n",
    "from PIL import Image\n",
    "import re\n",
    "import tflite_runtime.interpreter as tflite\n",
    "\n",
    "from pathlib import Path\n",
    "import urllib.request"
   ]
  },
  {
   "cell_type": "code",
   "execution_count": 10,
   "metadata": {},
   "outputs": [],
   "source": [
    "Object = collections.namedtuple('Object', ['id', 'score', 'bbox'])"
   ]
  },
  {
   "cell_type": "code",
   "execution_count": 19,
   "metadata": {},
   "outputs": [],
   "source": [
    "def load_labels(path):\n",
    "    p = re.compile(r'\\s*(\\d+)(.+)')\n",
    "    with open(path, 'r', encoding='utf-8') as f:\n",
    "       lines = (p.match(line).groups() for line in f.readlines())\n",
    "       return {int(num): text.strip() for num, text in lines}"
   ]
  },
  {
   "cell_type": "code",
   "execution_count": 20,
   "metadata": {},
   "outputs": [],
   "source": [
    "class BBox(collections.namedtuple('BBox', ['xmin', 'ymin', 'xmax', 'ymax'])):\n",
    "    \"\"\"Bounding box.\n",
    "    Represents a rectangle which sides are either vertical or horizontal, parallel\n",
    "    to the x or y axis.\n",
    "    \"\"\"\n",
    "    __slots__ = ()\n",
    "\n",
    "def get_output(interpreter, score_threshold, top_k, image_scale=1.0):\n",
    "    \"\"\"Returns list of detected objects.\"\"\"\n",
    "    boxes = common.output_tensor(interpreter, 0)\n",
    "    class_ids = common.output_tensor(interpreter, 1)\n",
    "    scores = common.output_tensor(interpreter, 2)\n",
    "    count = int(common.output_tensor(interpreter, 3))\n",
    "\n",
    "    def make(i):\n",
    "        ymin, xmin, ymax, xmax = boxes[i]\n",
    "        return Object(\n",
    "            id=int(class_ids[i]),\n",
    "            score=scores[i],\n",
    "            bbox=BBox(xmin=np.maximum(0.0, xmin),\n",
    "                      ymin=np.maximum(0.0, ymin),\n",
    "                      xmax=np.minimum(1.0, xmax),\n",
    "                      ymax=np.minimum(1.0, ymax)))\n",
    "\n",
    "    return [make(i) for i in range(top_k) if scores[i] >= score_threshold]"
   ]
  },
  {
   "cell_type": "code",
   "execution_count": 21,
   "metadata": {},
   "outputs": [],
   "source": [
    "Path(\"models\").mkdir(parents=True, exist_ok=True)"
   ]
  },
  {
   "cell_type": "code",
   "execution_count": 22,
   "metadata": {},
   "outputs": [
    {
     "data": {
      "text/plain": [
       "('models/coco_labels.txt', <http.client.HTTPMessage at 0x28b4b700e08>)"
      ]
     },
     "execution_count": 22,
     "metadata": {},
     "output_type": "execute_result"
    }
   ],
   "source": [
    "url = 'https://github.com/google-coral/edgetpu/raw/master/test_data/mobilenet_ssd_v2_coco_quant_postprocess.tflite'\n",
    "urllib.request.urlretrieve(url, 'models/mobilenet_ssd_v2_coco_quant_postprocess.tflite')\n",
    "url = 'https://github.com/google-coral/edgetpu/raw/master/test_data/coco_labels.txt'\n",
    "urllib.request.urlretrieve(url, 'models/coco_labels.txt')"
   ]
  },
  {
   "cell_type": "code",
   "execution_count": 23,
   "metadata": {},
   "outputs": [],
   "source": [
    "interpreter = common.make_interpreter('models/mobilenet_ssd_v2_coco_quant_postprocess.tflite')"
   ]
  },
  {
   "cell_type": "code",
   "execution_count": 24,
   "metadata": {},
   "outputs": [],
   "source": [
    "interpreter.allocate_tensors()"
   ]
  },
  {
   "cell_type": "code",
   "execution_count": 25,
   "metadata": {},
   "outputs": [],
   "source": [
    "labels = load_labels('models/coco_labels.txt')"
   ]
  },
  {
   "cell_type": "code",
   "execution_count": 26,
   "metadata": {},
   "outputs": [],
   "source": [
    "cap = cv2.VideoCapture(0)"
   ]
  },
  {
   "cell_type": "code",
   "execution_count": 28,
   "metadata": {},
   "outputs": [],
   "source": [
    "def append_objs_to_img(cv2_im, objs, labels):\n",
    "    height, width, channels = cv2_im.shape\n",
    "    for obj in objs:\n",
    "        x0, y0, x1, y1 = list(obj.bbox)\n",
    "        x0, y0, x1, y1 = int(x0*width), int(y0*height), int(x1*width), int(y1*height)\n",
    "        percent = int(100 * obj.score)\n",
    "        label = '{}% {}'.format(percent, labels.get(obj.id, obj.id))\n",
    "\n",
    "        cv2_im = cv2.rectangle(cv2_im, (x0, y0), (x1, y1), (0, 255, 0), 2)\n",
    "        cv2_im = cv2.putText(cv2_im, label, (x0, y0+30),\n",
    "                             cv2.FONT_HERSHEY_SIMPLEX, 1.0, (255, 0, 0), 2)\n",
    "    return cv2_im"
   ]
  },
  {
   "cell_type": "code",
   "execution_count": null,
   "metadata": {},
   "outputs": [],
   "source": [
    "while cap.isOpened():\n",
    "    ret, frame = cap.read()\n",
    "    if not ret:\n",
    "        break\n",
    "    cv2_im = frame\n",
    "\n",
    "    cv2_im_rgb = cv2.cvtColor(cv2_im, cv2.COLOR_BGR2RGB)\n",
    "    pil_im = Image.fromarray(cv2_im_rgb)\n",
    "\n",
    "    common.set_input(interpreter, pil_im)\n",
    "    interpreter.invoke()\n",
    "    objs = get_output(interpreter, score_threshold=0.1, top_k=3)\n",
    "    cv2_im = append_objs_to_img(cv2_im, objs, labels)\n",
    "\n",
    "    cv2.imshow('frame', cv2_im)\n",
    "    if cv2.waitKey(1) & 0xFF == ord('q'):\n",
    "        break\n",
    "\n",
    "cap.release()\n",
    "cv2.destroyAllWindows()"
   ]
  },
  {
   "cell_type": "code",
   "execution_count": null,
   "metadata": {},
   "outputs": [],
   "source": []
  }
 ],
 "metadata": {
  "kernelspec": {
   "display_name": "Python 3",
   "language": "python",
   "name": "python3"
  }
 },
 "nbformat": 4,
 "nbformat_minor": 4
}
