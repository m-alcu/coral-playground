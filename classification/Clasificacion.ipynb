{
 "cells": [
  {
   "cell_type": "code",
   "execution_count": 1,
   "metadata": {},
   "outputs": [],
   "source": [
    "import argparse\n",
    "import time\n",
    "import urllib.request\n",
    "from PIL import Image\n",
    "\n",
    "import classify\n",
    "import tflite_runtime.interpreter as tflite\n",
    "import platform\n",
    "from pathlib import Path"
   ]
  },
  {
   "cell_type": "code",
   "execution_count": 2,
   "metadata": {},
   "outputs": [],
   "source": [
    "EDGETPU_SHARED_LIB = {\n",
    "  'Linux': 'libedgetpu.so.1',\n",
    "  'Darwin': 'libedgetpu.1.dylib',\n",
    "  'Windows': 'edgetpu.dll'\n",
    "}[platform.system()]"
   ]
  },
  {
   "cell_type": "code",
   "execution_count": 3,
   "metadata": {},
   "outputs": [],
   "source": [
    "def load_labels(path, encoding='utf-8'):\n",
    "    \"\"\"Loads labels from file (with or without index numbers).\n",
    "\n",
    "    Args:\n",
    "    path: path to label file.\n",
    "    encoding: label file encoding.\n",
    "    Returns:\n",
    "    Dictionary mapping indices to labels.\n",
    "    \"\"\"\n",
    "    with open(path, 'r', encoding=encoding) as f:\n",
    "        \n",
    "        lines = f.readlines()\n",
    "        if not lines:\n",
    "            return {}\n",
    "\n",
    "        if lines[0].split(' ', maxsplit=1)[0].isdigit():\n",
    "            pairs = [line.split(' ', maxsplit=1) for line in lines]\n",
    "            return {int(index): label.strip() for index, label in pairs}\n",
    "        else:\n",
    "            return {index: line.strip() for index, line in enumerate(lines)}"
   ]
  },
  {
   "cell_type": "code",
   "execution_count": 4,
   "metadata": {},
   "outputs": [],
   "source": [
    "def make_interpreter(model_file):\n",
    "    model_file, *device = model_file.split('@')\n",
    "    return tflite.Interpreter(\n",
    "        model_path=model_file,\n",
    "        experimental_delegates=[\n",
    "            tflite.load_delegate(EDGETPU_SHARED_LIB,{'device': device[0]} if device else {})])"
   ]
  },
  {
   "cell_type": "code",
   "execution_count": 5,
   "metadata": {},
   "outputs": [],
   "source": [
    "def get_output(interpreter, top_k=1, score_threshold=0.0):\n",
    "    \"\"\"Returns no more than top_k classes with score >= score_threshold.\"\"\"\n",
    "    scores = output_tensor(interpreter)\n",
    "    classes = [\n",
    "      Class(i, scores[i])\n",
    "      for i in np.argpartition(scores, -top_k)[-top_k:]\n",
    "      if scores[i] >= score_threshold\n",
    "    ]\n",
    "    return sorted(classes, key=operator.itemgetter(1), reverse=True)"
   ]
  },
  {
   "cell_type": "code",
   "execution_count": 6,
   "metadata": {},
   "outputs": [],
   "source": [
    "Path(\"models\").mkdir(parents=True, exist_ok=True)\n",
    "Path(\"images\").mkdir(parents=True, exist_ok=True)"
   ]
  },
  {
   "cell_type": "code",
   "execution_count": 7,
   "metadata": {},
   "outputs": [
    {
     "data": {
      "text/plain": [
       "('images/parrot.jpg', <http.client.HTTPMessage at 0x2617e56b3c8>)"
      ]
     },
     "execution_count": 7,
     "metadata": {},
     "output_type": "execute_result"
    }
   ],
   "source": [
    "url = 'https://github.com/google-coral/edgetpu/raw/master/test_data/mobilenet_v2_1.0_224_inat_bird_quant.tflite'\n",
    "urllib.request.urlretrieve(url, 'models/mobilenet_v2_1.0_224_inat_bird_quant.tflite')\n",
    "url = 'https://github.com/google-coral/edgetpu/raw/master/test_data/mobilenet_v2_1.0_224_inat_bird_quant_edgetpu.tflite'\n",
    "urllib.request.urlretrieve(url, 'models/mobilenet_v2_1.0_224_inat_bird_quant_edgetpu.tflite')\n",
    "url = 'https://github.com/google-coral/edgetpu/raw/master/test_data/inat_bird_labels.txt'\n",
    "urllib.request.urlretrieve(url, 'models/inat_bird_labels.txt')\n",
    "url = 'https://github.com/google-coral/edgetpu/raw/master/test_data/parrot.jpg'\n",
    "urllib.request.urlretrieve(url, 'images/parrot.jpg')"
   ]
  },
  {
   "cell_type": "code",
   "execution_count": 8,
   "metadata": {},
   "outputs": [],
   "source": [
    "interpreter = make_interpreter('models/mobilenet_v2_1.0_224_inat_bird_quant.tflite')\n",
    "#interpreter = make_interpreter('models/mobilenet_v2_1.0_224_inat_bird_quant_edgetpu.tflite')"
   ]
  },
  {
   "cell_type": "code",
   "execution_count": 9,
   "metadata": {},
   "outputs": [],
   "source": [
    "interpreter.allocate_tensors()"
   ]
  },
  {
   "cell_type": "code",
   "execution_count": 10,
   "metadata": {},
   "outputs": [],
   "source": [
    "size = classify.input_size(interpreter)"
   ]
  },
  {
   "cell_type": "code",
   "execution_count": 11,
   "metadata": {},
   "outputs": [],
   "source": [
    "image = Image.open('images/parrot.jpg').convert('RGB').resize(size, Image.ANTIALIAS)"
   ]
  },
  {
   "cell_type": "code",
   "execution_count": 12,
   "metadata": {},
   "outputs": [],
   "source": [
    "classify.set_input(interpreter, image)"
   ]
  },
  {
   "cell_type": "code",
   "execution_count": 13,
   "metadata": {},
   "outputs": [
    {
     "name": "stdout",
     "output_type": "stream",
     "text": [
      "----INFERENCE TIME----\n",
      "Note: The first inference on Edge TPU is slow because it includes loading the model into Edge TPU memory.\n"
     ]
    }
   ],
   "source": [
    "print('----INFERENCE TIME----')\n",
    "print('Note: The first inference on Edge TPU is slow because it includes',\n",
    "    'loading the model into Edge TPU memory.')"
   ]
  },
  {
   "cell_type": "code",
   "execution_count": 14,
   "metadata": {},
   "outputs": [
    {
     "name": "stdout",
     "output_type": "stream",
     "text": [
      "275.8ms\n",
      "275.8ms\n",
      "285.0ms\n",
      "272.5ms\n",
      "271.4ms\n"
     ]
    }
   ],
   "source": [
    "for _ in range(5):\n",
    "    start = time.perf_counter()\n",
    "    interpreter.invoke()\n",
    "    inference_time = time.perf_counter() - start\n",
    "    classes = classify.get_output(interpreter, 1, 0.0)\n",
    "    print('%.1fms' % (inference_time * 1000))"
   ]
  },
  {
   "cell_type": "code",
   "execution_count": 15,
   "metadata": {},
   "outputs": [],
   "source": [
    "labels = load_labels('models/inat_bird_labels.txt')"
   ]
  },
  {
   "cell_type": "code",
   "execution_count": 16,
   "metadata": {},
   "outputs": [
    {
     "name": "stdout",
     "output_type": "stream",
     "text": [
      "-------RESULTS--------\n",
      "Ara macao (Scarlet Macaw): 0.78906\n"
     ]
    }
   ],
   "source": [
    "print('-------RESULTS--------')\n",
    "for klass in classes:\n",
    "    print('%s: %.5f' % (labels.get(klass.id, klass.id), klass.score))"
   ]
  },
  {
   "cell_type": "code",
   "execution_count": null,
   "metadata": {},
   "outputs": [],
   "source": []
  }
 ],
 "metadata": {
  "kernelspec": {
   "display_name": "Python 3",
   "language": "python",
   "name": "python3"
  },
  "language_info": {
   "codemirror_mode": {
    "name": "ipython",
    "version": 3
   },
   "file_extension": ".py",
   "mimetype": "text/x-python",
   "name": "python",
   "nbconvert_exporter": "python",
   "pygments_lexer": "ipython3",
   "version": "3.7.6"
  }
 },
 "nbformat": 4,
 "nbformat_minor": 4
}
