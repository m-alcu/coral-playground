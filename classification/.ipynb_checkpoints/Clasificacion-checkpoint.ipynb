{
 "cells": [
  {
   "cell_type": "code",
   "execution_count": 9,
   "metadata": {},
   "outputs": [],
   "source": [
    "import argparse\n",
    "import time\n",
    "import urllib.request\n",
    "from PIL import Image\n",
    "\n",
    "import classify\n",
    "import tflite_runtime.interpreter as tflite\n",
    "import platform\n",
    "from pathlib import Path"
   ]
  },
  {
   "cell_type": "code",
   "execution_count": 10,
   "metadata": {},
   "outputs": [],
   "source": [
    "EDGETPU_SHARED_LIB = {\n",
    "  'Linux': 'libedgetpu.so.1',\n",
    "  'Darwin': 'libedgetpu.1.dylib',\n",
    "  'Windows': 'edgetpu.dll'\n",
    "}[platform.system()]"
   ]
  },
  {
   "cell_type": "code",
   "execution_count": 11,
   "metadata": {},
   "outputs": [],
   "source": [
    "def load_labels(path, encoding='utf-8'):\n",
    "    \"\"\"Loads labels from file (with or without index numbers).\n",
    "\n",
    "    Args:\n",
    "    path: path to label file.\n",
    "    encoding: label file encoding.\n",
    "    Returns:\n",
    "    Dictionary mapping indices to labels.\n",
    "    \"\"\"\n",
    "    with open(path, 'r', encoding=encoding) as f:\n",
    "        \n",
    "        lines = f.readlines()\n",
    "        if not lines:\n",
    "            return {}\n",
    "\n",
    "        if lines[0].split(' ', maxsplit=1)[0].isdigit():\n",
    "            pairs = [line.split(' ', maxsplit=1) for line in lines]\n",
    "            return {int(index): label.strip() for index, label in pairs}\n",
    "        else:\n",
    "            return {index: line.strip() for index, line in enumerate(lines)}"
   ]
  },
  {
   "cell_type": "code",
   "execution_count": 12,
   "metadata": {},
   "outputs": [],
   "source": [
    "def make_interpreter(model_file):\n",
    "    model_file, *device = model_file.split('@')\n",
    "    return tflite.Interpreter(\n",
    "        model_path=model_file,\n",
    "        experimental_delegates=[\n",
    "            tflite.load_delegate(EDGETPU_SHARED_LIB,{'device': device[0]} if device else {})])"
   ]
  },
  {
   "cell_type": "code",
   "execution_count": 13,
   "metadata": {},
   "outputs": [],
   "source": [
    "def get_output(interpreter, top_k=1, score_threshold=0.0):\n",
    "    \"\"\"Returns no more than top_k classes with score >= score_threshold.\"\"\"\n",
    "    scores = output_tensor(interpreter)\n",
    "    classes = [\n",
    "      Class(i, scores[i])\n",
    "      for i in np.argpartition(scores, -top_k)[-top_k:]\n",
    "      if scores[i] >= score_threshold\n",
    "    ]\n",
    "    return sorted(classes, key=operator.itemgetter(1), reverse=True)"
   ]
  },
  {
   "cell_type": "code",
   "execution_count": 14,
   "metadata": {},
   "outputs": [],
   "source": [
    "Path(\"models\").mkdir(parents=True, exist_ok=True)\n",
    "Path(\"images\").mkdir(parents=True, exist_ok=True)"
   ]
  },
  {
   "cell_type": "code",
   "execution_count": 15,
   "metadata": {},
   "outputs": [
    {
     "data": {
      "text/plain": [
       "('images/parrot.jpg', <http.client.HTTPMessage at 0x1f292774148>)"
      ]
     },
     "execution_count": 15,
     "metadata": {},
     "output_type": "execute_result"
    }
   ],
   "source": [
    "url = 'https://github.com/google-coral/edgetpu/raw/master/test_data/mobilenet_v2_1.0_224_inat_bird_quant.tflite'\n",
    "urllib.request.urlretrieve(url, 'models/mobilenet_v2_1.0_224_inat_bird_quant.tflite')\n",
    "url = 'https://github.com/google-coral/edgetpu/raw/master/test_data/mobilenet_v2_1.0_224_inat_bird_quant_edgetpu.tflite'\n",
    "urllib.request.urlretrieve(url, 'models/mobilenet_v2_1.0_224_inat_bird_quant_edgetpu.tflite')\n",
    "url = 'https://github.com/google-coral/edgetpu/raw/master/test_data/inat_bird_labels.txt'\n",
    "urllib.request.urlretrieve(url, 'models/inat_bird_labels.txt')\n",
    "url = 'https://github.com/google-coral/edgetpu/raw/master/test_data/parrot.jpg'\n",
    "urllib.request.urlretrieve(url, 'images/parrot.jpg')"
   ]
  },
  {
   "cell_type": "code",
   "execution_count": 16,
   "metadata": {},
   "outputs": [
    {
     "ename": "ValueError",
     "evalue": "Failed to load delegate from edgetpu.dll\n",
     "output_type": "error",
     "traceback": [
      "\u001b[1;31m---------------------------------------------------------------------------\u001b[0m",
      "\u001b[1;31mValueError\u001b[0m                                Traceback (most recent call last)",
      "\u001b[1;32m~\\Anaconda3\\envs\\tensorflow2\\lib\\site-packages\\tflite_runtime\\interpreter.py\u001b[0m in \u001b[0;36mload_delegate\u001b[1;34m(library, options)\u001b[0m\n\u001b[0;32m    161\u001b[0m   \u001b[1;32mtry\u001b[0m\u001b[1;33m:\u001b[0m\u001b[1;33m\u001b[0m\u001b[1;33m\u001b[0m\u001b[0m\n\u001b[1;32m--> 162\u001b[1;33m     \u001b[0mdelegate\u001b[0m \u001b[1;33m=\u001b[0m \u001b[0mDelegate\u001b[0m\u001b[1;33m(\u001b[0m\u001b[0mlibrary\u001b[0m\u001b[1;33m,\u001b[0m \u001b[0moptions\u001b[0m\u001b[1;33m)\u001b[0m\u001b[1;33m\u001b[0m\u001b[1;33m\u001b[0m\u001b[0m\n\u001b[0m\u001b[0;32m    163\u001b[0m   \u001b[1;32mexcept\u001b[0m \u001b[0mValueError\u001b[0m \u001b[1;32mas\u001b[0m \u001b[0me\u001b[0m\u001b[1;33m:\u001b[0m\u001b[1;33m\u001b[0m\u001b[1;33m\u001b[0m\u001b[0m\n",
      "\u001b[1;32m~\\Anaconda3\\envs\\tensorflow2\\lib\\site-packages\\tflite_runtime\\interpreter.py\u001b[0m in \u001b[0;36m__init__\u001b[1;34m(self, library, options)\u001b[0m\n\u001b[0;32m    120\u001b[0m     \u001b[1;32mif\u001b[0m \u001b[0mself\u001b[0m\u001b[1;33m.\u001b[0m\u001b[0m_delegate_ptr\u001b[0m \u001b[1;32mis\u001b[0m \u001b[1;32mNone\u001b[0m\u001b[1;33m:\u001b[0m\u001b[1;33m\u001b[0m\u001b[1;33m\u001b[0m\u001b[0m\n\u001b[1;32m--> 121\u001b[1;33m       \u001b[1;32mraise\u001b[0m \u001b[0mValueError\u001b[0m\u001b[1;33m(\u001b[0m\u001b[0mcapture\u001b[0m\u001b[1;33m.\u001b[0m\u001b[0mmessage\u001b[0m\u001b[1;33m)\u001b[0m\u001b[1;33m\u001b[0m\u001b[1;33m\u001b[0m\u001b[0m\n\u001b[0m\u001b[0;32m    122\u001b[0m \u001b[1;33m\u001b[0m\u001b[0m\n",
      "\u001b[1;31mValueError\u001b[0m: ",
      "\nDuring handling of the above exception, another exception occurred:\n",
      "\u001b[1;31mValueError\u001b[0m                                Traceback (most recent call last)",
      "\u001b[1;32m<ipython-input-16-785f5e4436d9>\u001b[0m in \u001b[0;36m<module>\u001b[1;34m\u001b[0m\n\u001b[1;32m----> 1\u001b[1;33m \u001b[0minterpreter\u001b[0m \u001b[1;33m=\u001b[0m \u001b[0mmake_interpreter\u001b[0m\u001b[1;33m(\u001b[0m\u001b[1;34m'models/mobilenet_v2_1.0_224_inat_bird_quant.tflite'\u001b[0m\u001b[1;33m)\u001b[0m\u001b[1;33m\u001b[0m\u001b[1;33m\u001b[0m\u001b[0m\n\u001b[0m\u001b[0;32m      2\u001b[0m \u001b[1;31m#interpreter = make_interpreter('models/mobilenet_v2_1.0_224_inat_bird_quant_edgetpu.tflite')\u001b[0m\u001b[1;33m\u001b[0m\u001b[1;33m\u001b[0m\u001b[1;33m\u001b[0m\u001b[0m\n",
      "\u001b[1;32m<ipython-input-12-62872d62c179>\u001b[0m in \u001b[0;36mmake_interpreter\u001b[1;34m(model_file)\u001b[0m\n\u001b[0;32m      4\u001b[0m         \u001b[0mmodel_path\u001b[0m\u001b[1;33m=\u001b[0m\u001b[0mmodel_file\u001b[0m\u001b[1;33m,\u001b[0m\u001b[1;33m\u001b[0m\u001b[1;33m\u001b[0m\u001b[0m\n\u001b[0;32m      5\u001b[0m         experimental_delegates=[\n\u001b[1;32m----> 6\u001b[1;33m             tflite.load_delegate(EDGETPU_SHARED_LIB,{'device': device[0]} if device else {})])\n\u001b[0m",
      "\u001b[1;32m~\\Anaconda3\\envs\\tensorflow2\\lib\\site-packages\\tflite_runtime\\interpreter.py\u001b[0m in \u001b[0;36mload_delegate\u001b[1;34m(library, options)\u001b[0m\n\u001b[0;32m    163\u001b[0m   \u001b[1;32mexcept\u001b[0m \u001b[0mValueError\u001b[0m \u001b[1;32mas\u001b[0m \u001b[0me\u001b[0m\u001b[1;33m:\u001b[0m\u001b[1;33m\u001b[0m\u001b[1;33m\u001b[0m\u001b[0m\n\u001b[0;32m    164\u001b[0m     raise ValueError('Failed to load delegate from {}\\n{}'.format(\n\u001b[1;32m--> 165\u001b[1;33m         library, str(e)))\n\u001b[0m\u001b[0;32m    166\u001b[0m   \u001b[1;32mreturn\u001b[0m \u001b[0mdelegate\u001b[0m\u001b[1;33m\u001b[0m\u001b[1;33m\u001b[0m\u001b[0m\n\u001b[0;32m    167\u001b[0m \u001b[1;33m\u001b[0m\u001b[0m\n",
      "\u001b[1;31mValueError\u001b[0m: Failed to load delegate from edgetpu.dll\n"
     ]
    }
   ],
   "source": [
    "interpreter = make_interpreter('models/mobilenet_v2_1.0_224_inat_bird_quant.tflite')\n",
    "#interpreter = make_interpreter('models/mobilenet_v2_1.0_224_inat_bird_quant_edgetpu.tflite')"
   ]
  },
  {
   "cell_type": "code",
   "execution_count": null,
   "metadata": {},
   "outputs": [],
   "source": [
    "interpreter.allocate_tensors()"
   ]
  },
  {
   "cell_type": "code",
   "execution_count": null,
   "metadata": {},
   "outputs": [],
   "source": [
    "size = classify.input_size(interpreter)"
   ]
  },
  {
   "cell_type": "code",
   "execution_count": null,
   "metadata": {},
   "outputs": [],
   "source": [
    "image = Image.open('images/parrot.jpg').convert('RGB').resize(size, Image.ANTIALIAS)"
   ]
  },
  {
   "cell_type": "code",
   "execution_count": null,
   "metadata": {},
   "outputs": [],
   "source": [
    "classify.set_input(interpreter, image)"
   ]
  },
  {
   "cell_type": "code",
   "execution_count": null,
   "metadata": {},
   "outputs": [],
   "source": [
    "print('----INFERENCE TIME----')\n",
    "print('Note: The first inference on Edge TPU is slow because it includes',\n",
    "    'loading the model into Edge TPU memory.')"
   ]
  },
  {
   "cell_type": "code",
   "execution_count": null,
   "metadata": {},
   "outputs": [],
   "source": [
    "for _ in range(5):\n",
    "    start = time.perf_counter()\n",
    "    interpreter.invoke()\n",
    "    inference_time = time.perf_counter() - start\n",
    "    classes = classify.get_output(interpreter, 1, 0.0)\n",
    "    print('%.1fms' % (inference_time * 1000))"
   ]
  },
  {
   "cell_type": "code",
   "execution_count": null,
   "metadata": {},
   "outputs": [],
   "source": [
    "labels = load_labels('models/inat_bird_labels.txt')"
   ]
  },
  {
   "cell_type": "code",
   "execution_count": null,
   "metadata": {},
   "outputs": [],
   "source": [
    "print('-------RESULTS--------')\n",
    "for klass in classes:\n",
    "    print('%s: %.5f' % (labels.get(klass.id, klass.id), klass.score))"
   ]
  },
  {
   "cell_type": "code",
   "execution_count": null,
   "metadata": {},
   "outputs": [],
   "source": []
  }
 ],
 "metadata": {
  "kernelspec": {
   "display_name": "Python 3",
   "language": "python",
   "name": "python3"
  },
  "language_info": {
   "codemirror_mode": {
    "name": "ipython",
    "version": 3
   },
   "file_extension": ".py",
   "mimetype": "text/x-python",
   "name": "python",
   "nbconvert_exporter": "python",
   "pygments_lexer": "ipython3",
   "version": "3.7.6"
  }
 },
 "nbformat": 4,
 "nbformat_minor": 4
}
